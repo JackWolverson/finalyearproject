{
 "cells": [
  {
   "cell_type": "code",
   "execution_count": 1,
   "metadata": {},
   "outputs": [],
   "source": [
    "import pandas as pd\n",
    "import missingno as msno\n",
    "import gc\n",
    "import matplotlib.pyplot as plt\n",
    "from matplotlib.ticker import MaxNLocator\n",
    "import numpy as np\n",
    "import seaborn as sns\n",
    "import statistics as stats\n",
    "from sklearn.preprocessing import LabelEncoder\n",
    "from sklearn.preprocessing import normalize\n",
    "from sklearn.model_selection import train_test_split\n",
    "from sklearn.neural_network import MLPClassifier\n",
    "from sklearn.metrics import classification_report, confusion_matrix\n",
    "from sklearn.metrics import accuracy_score\n",
    "from collections import defaultdict\n",
    "import itertools\n",
    "import pickle \n",
    "from imblearn.over_sampling import SMOTE"
   ]
  },
  {
   "cell_type": "code",
   "execution_count": 2,
   "metadata": {},
   "outputs": [
    {
     "name": "stderr",
     "output_type": "stream",
     "text": [
      "C:\\Users\\Jack\\Anaconda3\\lib\\site-packages\\IPython\\core\\interactiveshell.py:2728: DtypeWarning: Columns (14,15,16,17,19,40,141,142,143,144,145,146,147,148,149,150,151,152,184,193,220,221,245,273,283,284,344,370,375,381,432,447) have mixed types. Specify dtype option on import or set low_memory=False.\n",
      "  interactivity=interactivity, compiler=compiler, result=result)\n"
     ]
    }
   ],
   "source": [
    "ds = pd.read_csv('E:\\\\Dataset\\\\dataset.csv')"
   ]
  },
  {
   "cell_type": "code",
   "execution_count": 3,
   "metadata": {},
   "outputs": [
    {
     "data": {
      "text/plain": [
       "False"
      ]
     },
     "execution_count": 3,
     "metadata": {},
     "output_type": "execute_result"
    }
   ],
   "source": [
    "val = {'Actual Going': 'UNKNWN'}\n",
    "ds.fillna(value=val, inplace=True)\n",
    "ds['Actual Going'].isna().any()"
   ]
  },
  {
   "cell_type": "code",
   "execution_count": 4,
   "metadata": {},
   "outputs": [
    {
     "data": {
      "text/plain": [
       "False"
      ]
     },
     "execution_count": 4,
     "metadata": {},
     "output_type": "execute_result"
    }
   ],
   "source": [
    "val = {'Going': 'UNKNWN'}\n",
    "ds.fillna(value=val, inplace=True)\n",
    "ds['Going'].isna().any()"
   ]
  },
  {
   "cell_type": "code",
   "execution_count": 5,
   "metadata": {},
   "outputs": [
    {
     "data": {
      "text/plain": [
       "False"
      ]
     },
     "execution_count": 5,
     "metadata": {},
     "output_type": "execute_result"
    }
   ],
   "source": [
    "val = {'Beginner': 'No', 'Maiden':'No','Novice':'No'}\n",
    "ds.fillna(value=val, inplace=True)\n",
    "ds['Beginner'].isna().any()\n"
   ]
  },
  {
   "cell_type": "code",
   "execution_count": 8,
   "metadata": {},
   "outputs": [
    {
     "data": {
      "text/plain": [
       "False"
      ]
     },
     "execution_count": 8,
     "metadata": {},
     "output_type": "execute_result"
    }
   ],
   "source": [
    "ds['Maiden'].isna().any()"
   ]
  },
  {
   "cell_type": "code",
   "execution_count": 9,
   "metadata": {},
   "outputs": [
    {
     "data": {
      "text/plain": [
       "False"
      ]
     },
     "execution_count": 9,
     "metadata": {},
     "output_type": "execute_result"
    }
   ],
   "source": [
    "ds['Novice'].isna().any()"
   ]
  },
  {
   "cell_type": "code",
   "execution_count": 7,
   "metadata": {},
   "outputs": [
    {
     "data": {
      "text/plain": [
       "False"
      ]
     },
     "execution_count": 7,
     "metadata": {},
     "output_type": "execute_result"
    }
   ],
   "source": [
    "val = {'Country': 'UK'}\n",
    "ds.fillna(value=val, inplace=True)\n",
    "ds['Country'].isna().any()"
   ]
  },
  {
   "cell_type": "code",
   "execution_count": 10,
   "metadata": {},
   "outputs": [
    {
     "data": {
      "text/plain": [
       "False"
      ]
     },
     "execution_count": 10,
     "metadata": {},
     "output_type": "execute_result"
    }
   ],
   "source": [
    "val = {'Auction': 'NonAuction'}\n",
    "ds.fillna(value=val, inplace=True)\n",
    "ds['Auction'].isna().any()"
   ]
  },
  {
   "cell_type": "code",
   "execution_count": 11,
   "metadata": {},
   "outputs": [
    {
     "data": {
      "text/plain": [
       "False"
      ]
     },
     "execution_count": 11,
     "metadata": {},
     "output_type": "execute_result"
    }
   ],
   "source": [
    "val = {'Gender': '-'}\n",
    "ds.fillna(value=val, inplace=True)\n",
    "ds['Gender'].isna().any()"
   ]
  },
  {
   "cell_type": "code",
   "execution_count": 12,
   "metadata": {},
   "outputs": [
    {
     "data": {
      "text/plain": [
       "False"
      ]
     },
     "execution_count": 12,
     "metadata": {},
     "output_type": "execute_result"
    }
   ],
   "source": [
    "val = {'Going2RunsAgo': 'unknown','Going3RunsAgo': 'unknown','Going4RunsAgo': 'unknown','Going5RunsAgo': 'unknown','GoingLastTime': 'unknown'}\n",
    "ds.fillna(value=val, inplace=True)\n",
    "ds['Going2RunsAgo'].isna().any()"
   ]
  },
  {
   "cell_type": "code",
   "execution_count": 13,
   "metadata": {},
   "outputs": [
    {
     "data": {
      "text/plain": [
       "False"
      ]
     },
     "execution_count": 13,
     "metadata": {},
     "output_type": "execute_result"
    }
   ],
   "source": [
    "ds['Going3RunsAgo'].isna().any()"
   ]
  },
  {
   "cell_type": "code",
   "execution_count": 14,
   "metadata": {},
   "outputs": [
    {
     "data": {
      "text/plain": [
       "False"
      ]
     },
     "execution_count": 14,
     "metadata": {},
     "output_type": "execute_result"
    }
   ],
   "source": [
    "ds['Going4RunsAgo'].isna().any()"
   ]
  },
  {
   "cell_type": "code",
   "execution_count": 15,
   "metadata": {},
   "outputs": [
    {
     "data": {
      "text/plain": [
       "False"
      ]
     },
     "execution_count": 15,
     "metadata": {},
     "output_type": "execute_result"
    }
   ],
   "source": [
    "ds['Going5RunsAgo'].isna().any()"
   ]
  },
  {
   "cell_type": "code",
   "execution_count": 16,
   "metadata": {},
   "outputs": [
    {
     "data": {
      "text/plain": [
       "False"
      ]
     },
     "execution_count": 16,
     "metadata": {},
     "output_type": "execute_result"
    }
   ],
   "source": [
    "ds['GoingLastTime'].isna().any()"
   ]
  },
  {
   "cell_type": "code",
   "execution_count": 17,
   "metadata": {},
   "outputs": [
    {
     "data": {
      "text/plain": [
       "Index(['BHAclassLast', 'BHAclassLastType', 'BHAclassToday',\n",
       "       'Betfair Place S.P.', 'Betfair Placed', 'Betfair Win S.P.', 'Claiming',\n",
       "       'ClassDifferentialOneRace', 'ClsRanking', 'ConnRanking', 'Dam',\n",
       "       'FrmRanking', 'Handicap', 'HorseForm', 'HunterChase', 'Jockey',\n",
       "       'JockeyRanking', 'LastTimeClassDrop', 'LastTimePositionRaceType',\n",
       "       'LastTimePosn', 'LastTimeWeightDrop', 'LengthsWonLost2RunsAgo',\n",
       "       'LengthsWonLost3RunsAgo', 'LengthsWonLost4RunsAgo',\n",
       "       'LengthsWonLost5RunsAgo', 'LengthsWonLostLastRun', 'LstRanking',\n",
       "       'Position2RunsAgo', 'Position3RunsAgo', 'Position4RunsAgo',\n",
       "       'Position5RunsAgo', 'PositionLastTime', 'Prize', 'RAdjRanking',\n",
       "       'RawRanking', 'S.P.', 'Selling', 'Sire', 'SpdRanking', 'StallNumber',\n",
       "       'StallPercentage', 'Systems', 'TJCPL', 'TJCROI', 'TJCRuns', 'TJCSR',\n",
       "       'TJCTypePL', 'TJCTypeROI', 'TJCTypeRuns', 'TJCTypeSR', 'TJCTypeWins',\n",
       "       'TJCWins', 'TJPL', 'TJROI', 'TJRuns', 'TJSR', 'TJWins', 'TrFormRanking',\n",
       "       'Trainer', 'TrainerCalendarRuns', 'TrainerRanking',\n",
       "       'ValueOdds_BetfairFormat', 'WRITE_IN_DURATION_HERE', 'Wearing',\n",
       "       'WeightDifferentialOneRace', 'WinFRanking'],\n",
       "      dtype='object')"
      ]
     },
     "execution_count": 17,
     "metadata": {},
     "output_type": "execute_result"
    }
   ],
   "source": [
    "ds.columns[ds.isnull().any()]"
   ]
  },
  {
   "cell_type": "code",
   "execution_count": 18,
   "metadata": {},
   "outputs": [
    {
     "data": {
      "text/plain": [
       "False"
      ]
     },
     "execution_count": 18,
     "metadata": {},
     "output_type": "execute_result"
    }
   ],
   "source": [
    "val = {'Handicap': 'NonHandicap'}\n",
    "ds.fillna(value=val, inplace=True)\n",
    "ds['Handicap'].isna().any()"
   ]
  },
  {
   "cell_type": "code",
   "execution_count": 19,
   "metadata": {},
   "outputs": [
    {
     "data": {
      "text/plain": [
       "False"
      ]
     },
     "execution_count": 19,
     "metadata": {},
     "output_type": "execute_result"
    }
   ],
   "source": [
    "val = {'Selling': 'NonSelling'}\n",
    "ds.fillna(value=val, inplace=True)\n",
    "ds['Selling'].isna().any()"
   ]
  },
  {
   "cell_type": "code",
   "execution_count": 20,
   "metadata": {},
   "outputs": [],
   "source": [
    "ds.drop(columns=['WRITE_IN_DURATION_HERE', 'WRITE_FAVOURITE_RANKING','ValueOdds_BetfairFormat'], inplace=True)\n"
   ]
  },
  {
   "cell_type": "code",
   "execution_count": 21,
   "metadata": {},
   "outputs": [
    {
     "data": {
      "text/plain": [
       "False"
      ]
     },
     "execution_count": 21,
     "metadata": {},
     "output_type": "execute_result"
    }
   ],
   "source": [
    "val = {'Jockey': 'unknown'}\n",
    "ds.fillna(value=val, inplace=True)\n",
    "ds['Jockey'].isna().any()"
   ]
  },
  {
   "cell_type": "code",
   "execution_count": 22,
   "metadata": {},
   "outputs": [
    {
     "data": {
      "text/plain": [
       "False"
      ]
     },
     "execution_count": 22,
     "metadata": {},
     "output_type": "execute_result"
    }
   ],
   "source": [
    "val = {'Dam': 'UNKNOWN','Sire': 'UNKNOWN'}\n",
    "ds.fillna(value=val, inplace=True)\n",
    "ds['Dam'].isna().any()"
   ]
  },
  {
   "cell_type": "code",
   "execution_count": 23,
   "metadata": {},
   "outputs": [
    {
     "data": {
      "text/plain": [
       "False"
      ]
     },
     "execution_count": 23,
     "metadata": {},
     "output_type": "execute_result"
    }
   ],
   "source": [
    "ds['Sire'].isna().any()"
   ]
  },
  {
   "cell_type": "code",
   "execution_count": 24,
   "metadata": {},
   "outputs": [
    {
     "data": {
      "text/plain": [
       "False"
      ]
     },
     "execution_count": 24,
     "metadata": {},
     "output_type": "execute_result"
    }
   ],
   "source": [
    "val = {'Wearing': '0'}\n",
    "ds.fillna(value=val, inplace=True)\n",
    "ds['Wearing'].isna().any()"
   ]
  },
  {
   "cell_type": "code",
   "execution_count": 25,
   "metadata": {},
   "outputs": [
    {
     "data": {
      "text/plain": [
       "Index(['BHAclassLast', 'BHAclassLastType', 'BHAclassToday',\n",
       "       'Betfair Place S.P.', 'Betfair Placed', 'Betfair Win S.P.', 'Claiming',\n",
       "       'ClassDifferentialOneRace', 'ClsRanking', 'ConnRanking', 'FrmRanking',\n",
       "       'HorseForm', 'HunterChase', 'JockeyRanking', 'LastTimeClassDrop',\n",
       "       'LastTimePositionRaceType', 'LastTimePosn', 'LastTimeWeightDrop',\n",
       "       'LengthsWonLost2RunsAgo', 'LengthsWonLost3RunsAgo',\n",
       "       'LengthsWonLost4RunsAgo', 'LengthsWonLost5RunsAgo',\n",
       "       'LengthsWonLostLastRun', 'LstRanking', 'Position2RunsAgo',\n",
       "       'Position3RunsAgo', 'Position4RunsAgo', 'Position5RunsAgo',\n",
       "       'PositionLastTime', 'Prize', 'RAdjRanking', 'RawRanking', 'S.P.',\n",
       "       'SpdRanking', 'StallNumber', 'StallPercentage', 'Systems', 'TJCPL',\n",
       "       'TJCROI', 'TJCRuns', 'TJCSR', 'TJCTypePL', 'TJCTypeROI', 'TJCTypeRuns',\n",
       "       'TJCTypeSR', 'TJCTypeWins', 'TJCWins', 'TJPL', 'TJROI', 'TJRuns',\n",
       "       'TJSR', 'TJWins', 'TrFormRanking', 'Trainer', 'TrainerCalendarRuns',\n",
       "       'TrainerRanking', 'WeightDifferentialOneRace', 'WinFRanking'],\n",
       "      dtype='object')"
      ]
     },
     "execution_count": 25,
     "metadata": {},
     "output_type": "execute_result"
    }
   ],
   "source": [
    "ds.columns[ds.isnull().any()]"
   ]
  },
  {
   "cell_type": "code",
   "execution_count": 26,
   "metadata": {},
   "outputs": [
    {
     "data": {
      "text/plain": [
       "False"
      ]
     },
     "execution_count": 26,
     "metadata": {},
     "output_type": "execute_result"
    }
   ],
   "source": [
    "val = {'Claiming': 'NotClaiming'}\n",
    "ds.fillna(value=val, inplace=True)\n",
    "ds['Claiming'].isna().any()"
   ]
  },
  {
   "cell_type": "code",
   "execution_count": 27,
   "metadata": {},
   "outputs": [],
   "source": [
    "ds.drop(columns=['ClassDifferentialOneRace'], inplace=True)"
   ]
  },
  {
   "cell_type": "code",
   "execution_count": 28,
   "metadata": {},
   "outputs": [
    {
     "data": {
      "text/plain": [
       "False"
      ]
     },
     "execution_count": 28,
     "metadata": {},
     "output_type": "execute_result"
    }
   ],
   "source": [
    "val = {'ClsRanking': 0}\n",
    "ds.fillna(value=val, inplace=True)\n",
    "ds['ClsRanking'].isna().any()"
   ]
  },
  {
   "cell_type": "code",
   "execution_count": 29,
   "metadata": {},
   "outputs": [],
   "source": [
    "val = {'Position2RunsAgo': 0, 'Position3RunsAgo':0, 'Position4RunsAgo':0,\n",
    "       'Position5RunsAgo': 0, 'PositionLastTime':0,}\n",
    "ds.fillna(value = val, inplace=True)"
   ]
  },
  {
   "cell_type": "code",
   "execution_count": 30,
   "metadata": {},
   "outputs": [
    {
     "data": {
      "text/plain": [
       "False"
      ]
     },
     "execution_count": 30,
     "metadata": {},
     "output_type": "execute_result"
    }
   ],
   "source": [
    "val = {'HunterChase': 'No'}\n",
    "ds.fillna(value=val, inplace=True)\n",
    "ds['HunterChase'].isna().any()"
   ]
  },
  {
   "cell_type": "code",
   "execution_count": 31,
   "metadata": {},
   "outputs": [
    {
     "data": {
      "text/plain": [
       "False"
      ]
     },
     "execution_count": 31,
     "metadata": {},
     "output_type": "execute_result"
    }
   ],
   "source": [
    "val = {'FrmRanking': 0}\n",
    "ds.fillna(value=val, inplace=True)\n",
    "ds['FrmRanking'].isna().any()"
   ]
  },
  {
   "cell_type": "code",
   "execution_count": 32,
   "metadata": {},
   "outputs": [
    {
     "data": {
      "text/plain": [
       "False"
      ]
     },
     "execution_count": 32,
     "metadata": {},
     "output_type": "execute_result"
    }
   ],
   "source": [
    "val = {'ConnRanking': 0}\n",
    "ds.fillna(value=val, inplace=True)\n",
    "ds['ConnRanking'].isna().any()"
   ]
  },
  {
   "cell_type": "code",
   "execution_count": 33,
   "metadata": {},
   "outputs": [
    {
     "data": {
      "text/plain": [
       "False"
      ]
     },
     "execution_count": 33,
     "metadata": {},
     "output_type": "execute_result"
    }
   ],
   "source": [
    "val = {'HorseForm': '0'}\n",
    "ds.fillna(value=val, inplace=True)\n",
    "ds['HorseForm'].isna().any()"
   ]
  },
  {
   "cell_type": "code",
   "execution_count": 34,
   "metadata": {},
   "outputs": [
    {
     "data": {
      "text/plain": [
       "False"
      ]
     },
     "execution_count": 34,
     "metadata": {},
     "output_type": "execute_result"
    }
   ],
   "source": [
    "val = {'StallNumber': 0}\n",
    "ds.fillna(value=val, inplace=True)\n",
    "ds['StallNumber'].isna().any()"
   ]
  },
  {
   "cell_type": "code",
   "execution_count": 35,
   "metadata": {},
   "outputs": [],
   "source": [
    "val = {'JockeyRanking': 0, 'TrainerRanking':0}\n",
    "ds.fillna(value=val, inplace=True)"
   ]
  },
  {
   "cell_type": "code",
   "execution_count": 36,
   "metadata": {},
   "outputs": [],
   "source": [
    "val = {'Trainer': 'UNKNWN'}\n",
    "ds.fillna(value=val,inplace=True)"
   ]
  },
  {
   "cell_type": "code",
   "execution_count": 37,
   "metadata": {},
   "outputs": [
    {
     "data": {
      "text/plain": [
       "False"
      ]
     },
     "execution_count": 37,
     "metadata": {},
     "output_type": "execute_result"
    }
   ],
   "source": [
    "val = {'StallPercentage': '0%'}\n",
    "ds.fillna(value=val, inplace=True)\n",
    "ds['StallPercentage'].isna().any()"
   ]
  },
  {
   "cell_type": "code",
   "execution_count": 38,
   "metadata": {},
   "outputs": [
    {
     "data": {
      "text/plain": [
       "Index(['BHAclassLast', 'BHAclassLastType', 'BHAclassToday',\n",
       "       'Betfair Place S.P.', 'Betfair Placed', 'Betfair Win S.P.',\n",
       "       'LastTimeClassDrop', 'LastTimePositionRaceType', 'LastTimePosn',\n",
       "       'LastTimeWeightDrop', 'LengthsWonLost2RunsAgo',\n",
       "       'LengthsWonLost3RunsAgo', 'LengthsWonLost4RunsAgo',\n",
       "       'LengthsWonLost5RunsAgo', 'LengthsWonLostLastRun', 'LstRanking',\n",
       "       'Prize', 'RAdjRanking', 'RawRanking', 'S.P.', 'SpdRanking', 'Systems',\n",
       "       'TJCPL', 'TJCROI', 'TJCRuns', 'TJCSR', 'TJCTypePL', 'TJCTypeROI',\n",
       "       'TJCTypeRuns', 'TJCTypeSR', 'TJCTypeWins', 'TJCWins', 'TJPL', 'TJROI',\n",
       "       'TJRuns', 'TJSR', 'TJWins', 'TrFormRanking', 'TrainerCalendarRuns',\n",
       "       'WeightDifferentialOneRace', 'WinFRanking'],\n",
       "      dtype='object')"
      ]
     },
     "execution_count": 38,
     "metadata": {},
     "output_type": "execute_result"
    }
   ],
   "source": [
    "ds.columns[ds.isnull().any()]"
   ]
  },
  {
   "cell_type": "code",
   "execution_count": 39,
   "metadata": {},
   "outputs": [
    {
     "data": {
      "text/plain": [
       "False"
      ]
     },
     "execution_count": 39,
     "metadata": {},
     "output_type": "execute_result"
    }
   ],
   "source": [
    "val = {'Prize': 0}\n",
    "ds.fillna(value=val, inplace=True)\n",
    "ds['Prize'].isna().any()"
   ]
  },
  {
   "cell_type": "code",
   "execution_count": 40,
   "metadata": {},
   "outputs": [],
   "source": [
    "val = { 'LengthsWonLost2RunsAgo':0,\n",
    "       'LengthsWonLost3RunsAgo':0, 'LengthsWonLost4RunsAgo':0,\n",
    "       'LengthsWonLost5RunsAgo':0, 'LengthsWonLostLastRun':0,}\n",
    "ds.fillna(value=val,inplace=True)"
   ]
  },
  {
   "cell_type": "code",
   "execution_count": 41,
   "metadata": {},
   "outputs": [
    {
     "data": {
      "text/plain": [
       "Index(['BHAclassLast', 'BHAclassLastType', 'BHAclassToday',\n",
       "       'Betfair Place S.P.', 'Betfair Placed', 'Betfair Win S.P.',\n",
       "       'LastTimeClassDrop', 'LastTimePositionRaceType', 'LastTimePosn',\n",
       "       'LastTimeWeightDrop', 'LstRanking', 'RAdjRanking', 'RawRanking', 'S.P.',\n",
       "       'SpdRanking', 'Systems', 'TJCPL', 'TJCROI', 'TJCRuns', 'TJCSR',\n",
       "       'TJCTypePL', 'TJCTypeROI', 'TJCTypeRuns', 'TJCTypeSR', 'TJCTypeWins',\n",
       "       'TJCWins', 'TJPL', 'TJROI', 'TJRuns', 'TJSR', 'TJWins', 'TrFormRanking',\n",
       "       'TrainerCalendarRuns', 'WeightDifferentialOneRace', 'WinFRanking'],\n",
       "      dtype='object')"
      ]
     },
     "execution_count": 41,
     "metadata": {},
     "output_type": "execute_result"
    }
   ],
   "source": [
    "ds.columns[ds.isnull().any()]"
   ]
  },
  {
   "cell_type": "code",
   "execution_count": 42,
   "metadata": {
    "scrolled": false
   },
   "outputs": [],
   "source": [
    "val = { 'TJCPL':0, 'TJCROI':0, 'TJCRuns':0, 'TJCSR':0,\n",
    "       'TJCTypePL':0, 'TJCTypeROI':0, 'TJCTypeRuns':0, 'TJCTypeSR':0, 'TJCTypeWins':0,\n",
    "       'TJCWins':0, 'TJPL':0, 'TJROI':0, 'TJRuns':0, 'TJSR':0, 'TJWins':0}\n",
    "ds.fillna(value=val,inplace=True)"
   ]
  },
  {
   "cell_type": "code",
   "execution_count": 43,
   "metadata": {},
   "outputs": [
    {
     "data": {
      "text/plain": [
       "Index(['BHAclassLast', 'BHAclassLastType', 'BHAclassToday',\n",
       "       'Betfair Place S.P.', 'Betfair Placed', 'Betfair Win S.P.',\n",
       "       'LastTimeClassDrop', 'LastTimePositionRaceType', 'LastTimePosn',\n",
       "       'LastTimeWeightDrop', 'LstRanking', 'RAdjRanking', 'RawRanking', 'S.P.',\n",
       "       'SpdRanking', 'Systems', 'TrFormRanking', 'TrainerCalendarRuns',\n",
       "       'WeightDifferentialOneRace', 'WinFRanking'],\n",
       "      dtype='object')"
      ]
     },
     "execution_count": 43,
     "metadata": {},
     "output_type": "execute_result"
    }
   ],
   "source": [
    "ds.columns[ds.isnull().any()]"
   ]
  },
  {
   "cell_type": "code",
   "execution_count": 46,
   "metadata": {},
   "outputs": [
    {
     "ename": "ValueError",
     "evalue": "labels ['BHAclassLast' 'BHAclassLastType' 'BHAclassToday' 'Betfair Place S.P.'\n 'Betfair Placed' 'Betfair Win S.P.' 'LastTimeClassDrop'\n 'LastTimePositionRaceType' 'LastTimePosn' 'LastTimeWeightDrop'\n 'LstRanking' 'RAdjRanking' 'RawRanking' 'S.P.' 'SpdRanking' 'Systems'\n 'TrFormRanking' 'TrainerCalendarRuns' 'WeightDifferentialOneRace'\n 'WinFRanking'] not contained in axis",
     "output_type": "error",
     "traceback": [
      "\u001b[1;31m---------------------------------------------------------------------------\u001b[0m",
      "\u001b[1;31mValueError\u001b[0m                                Traceback (most recent call last)",
      "\u001b[1;32m<ipython-input-46-a571c0ec511b>\u001b[0m in \u001b[0;36m<module>\u001b[1;34m()\u001b[0m\n\u001b[0;32m      5\u001b[0m \u001b[1;32mfrom\u001b[0m \u001b[0mcoconut\u001b[0m\u001b[1;33m.\u001b[0m\u001b[0m__coconut__\u001b[0m \u001b[1;32mimport\u001b[0m \u001b[0m_coconut\u001b[0m\u001b[1;33m,\u001b[0m \u001b[0m_coconut_NamedTuple\u001b[0m\u001b[1;33m,\u001b[0m \u001b[0m_coconut_MatchError\u001b[0m\u001b[1;33m,\u001b[0m \u001b[0m_coconut_tail_call\u001b[0m\u001b[1;33m,\u001b[0m \u001b[0m_coconut_tco\u001b[0m\u001b[1;33m,\u001b[0m \u001b[0m_coconut_igetitem\u001b[0m\u001b[1;33m,\u001b[0m \u001b[0m_coconut_base_compose\u001b[0m\u001b[1;33m,\u001b[0m \u001b[0m_coconut_forward_compose\u001b[0m\u001b[1;33m,\u001b[0m \u001b[0m_coconut_back_compose\u001b[0m\u001b[1;33m,\u001b[0m \u001b[0m_coconut_forward_star_compose\u001b[0m\u001b[1;33m,\u001b[0m \u001b[0m_coconut_back_star_compose\u001b[0m\u001b[1;33m,\u001b[0m \u001b[0m_coconut_pipe\u001b[0m\u001b[1;33m,\u001b[0m \u001b[0m_coconut_star_pipe\u001b[0m\u001b[1;33m,\u001b[0m \u001b[0m_coconut_back_pipe\u001b[0m\u001b[1;33m,\u001b[0m \u001b[0m_coconut_back_star_pipe\u001b[0m\u001b[1;33m,\u001b[0m \u001b[0m_coconut_bool_and\u001b[0m\u001b[1;33m,\u001b[0m \u001b[0m_coconut_bool_or\u001b[0m\u001b[1;33m,\u001b[0m \u001b[0m_coconut_none_coalesce\u001b[0m\u001b[1;33m,\u001b[0m \u001b[0m_coconut_minus\u001b[0m\u001b[1;33m,\u001b[0m \u001b[0m_coconut_map\u001b[0m\u001b[1;33m,\u001b[0m \u001b[0m_coconut_partial\u001b[0m\u001b[1;33m\u001b[0m\u001b[0m\n\u001b[0;32m      6\u001b[0m \u001b[1;32mfrom\u001b[0m \u001b[0mcoconut\u001b[0m\u001b[1;33m.\u001b[0m\u001b[0m__coconut__\u001b[0m \u001b[1;32mimport\u001b[0m \u001b[1;33m*\u001b[0m\u001b[1;33m\u001b[0m\u001b[0m\n\u001b[1;32m----> 7\u001b[1;33m \u001b[0mds\u001b[0m\u001b[1;33m.\u001b[0m\u001b[0mdrop\u001b[0m\u001b[1;33m(\u001b[0m\u001b[0mcolumns\u001b[0m\u001b[1;33m=\u001b[0m\u001b[1;33m[\u001b[0m\u001b[1;34m'BHAclassLast'\u001b[0m\u001b[1;33m,\u001b[0m \u001b[1;34m'BHAclassLastType'\u001b[0m\u001b[1;33m,\u001b[0m \u001b[1;34m'BHAclassToday'\u001b[0m\u001b[1;33m,\u001b[0m \u001b[1;34m'Betfair Place S.P.'\u001b[0m\u001b[1;33m,\u001b[0m \u001b[1;34m'Betfair Placed'\u001b[0m\u001b[1;33m,\u001b[0m \u001b[1;34m'Betfair Win S.P.'\u001b[0m\u001b[1;33m,\u001b[0m \u001b[1;34m'LastTimeClassDrop'\u001b[0m\u001b[1;33m,\u001b[0m \u001b[1;34m'LastTimePositionRaceType'\u001b[0m\u001b[1;33m,\u001b[0m \u001b[1;34m'LastTimePosn'\u001b[0m\u001b[1;33m,\u001b[0m \u001b[1;34m'LastTimeWeightDrop'\u001b[0m\u001b[1;33m,\u001b[0m \u001b[1;34m'LstRanking'\u001b[0m\u001b[1;33m,\u001b[0m \u001b[1;34m'RAdjRanking'\u001b[0m\u001b[1;33m,\u001b[0m \u001b[1;34m'RawRanking'\u001b[0m\u001b[1;33m,\u001b[0m \u001b[1;34m'S.P.'\u001b[0m\u001b[1;33m,\u001b[0m \u001b[1;34m'SpdRanking'\u001b[0m\u001b[1;33m,\u001b[0m \u001b[1;34m'Systems'\u001b[0m\u001b[1;33m,\u001b[0m \u001b[1;34m'TrFormRanking'\u001b[0m\u001b[1;33m,\u001b[0m \u001b[1;34m'TrainerCalendarRuns'\u001b[0m\u001b[1;33m,\u001b[0m \u001b[1;34m'WeightDifferentialOneRace'\u001b[0m\u001b[1;33m,\u001b[0m \u001b[1;34m'WinFRanking'\u001b[0m\u001b[1;33m]\u001b[0m\u001b[1;33m,\u001b[0m \u001b[0minplace\u001b[0m\u001b[1;33m=\u001b[0m\u001b[1;32mTrue\u001b[0m\u001b[1;33m)\u001b[0m  \u001b[1;31m# line 1: ds.drop(columns=['BHAclassLast', 'BHAclassLastType', 'BHAclassToday',\u001b[0m\u001b[1;33m\u001b[0m\u001b[0m\n\u001b[0m",
      "\u001b[1;32m~\\Anaconda3\\lib\\site-packages\\pandas\\core\\generic.py\u001b[0m in \u001b[0;36mdrop\u001b[1;34m(self, labels, axis, index, columns, level, inplace, errors)\u001b[0m\n\u001b[0;32m   2528\u001b[0m         \u001b[1;32mfor\u001b[0m \u001b[0maxis\u001b[0m\u001b[1;33m,\u001b[0m \u001b[0mlabels\u001b[0m \u001b[1;32min\u001b[0m \u001b[0maxes\u001b[0m\u001b[1;33m.\u001b[0m\u001b[0mitems\u001b[0m\u001b[1;33m(\u001b[0m\u001b[1;33m)\u001b[0m\u001b[1;33m:\u001b[0m\u001b[1;33m\u001b[0m\u001b[0m\n\u001b[0;32m   2529\u001b[0m             \u001b[1;32mif\u001b[0m \u001b[0mlabels\u001b[0m \u001b[1;32mis\u001b[0m \u001b[1;32mnot\u001b[0m \u001b[1;32mNone\u001b[0m\u001b[1;33m:\u001b[0m\u001b[1;33m\u001b[0m\u001b[0m\n\u001b[1;32m-> 2530\u001b[1;33m                 \u001b[0mobj\u001b[0m \u001b[1;33m=\u001b[0m \u001b[0mobj\u001b[0m\u001b[1;33m.\u001b[0m\u001b[0m_drop_axis\u001b[0m\u001b[1;33m(\u001b[0m\u001b[0mlabels\u001b[0m\u001b[1;33m,\u001b[0m \u001b[0maxis\u001b[0m\u001b[1;33m,\u001b[0m \u001b[0mlevel\u001b[0m\u001b[1;33m=\u001b[0m\u001b[0mlevel\u001b[0m\u001b[1;33m,\u001b[0m \u001b[0merrors\u001b[0m\u001b[1;33m=\u001b[0m\u001b[0merrors\u001b[0m\u001b[1;33m)\u001b[0m\u001b[1;33m\u001b[0m\u001b[0m\n\u001b[0m\u001b[0;32m   2531\u001b[0m \u001b[1;33m\u001b[0m\u001b[0m\n\u001b[0;32m   2532\u001b[0m         \u001b[1;32mif\u001b[0m \u001b[0minplace\u001b[0m\u001b[1;33m:\u001b[0m\u001b[1;33m\u001b[0m\u001b[0m\n",
      "\u001b[1;32m~\\Anaconda3\\lib\\site-packages\\pandas\\core\\generic.py\u001b[0m in \u001b[0;36m_drop_axis\u001b[1;34m(self, labels, axis, level, errors)\u001b[0m\n\u001b[0;32m   2560\u001b[0m                 \u001b[0mnew_axis\u001b[0m \u001b[1;33m=\u001b[0m \u001b[0maxis\u001b[0m\u001b[1;33m.\u001b[0m\u001b[0mdrop\u001b[0m\u001b[1;33m(\u001b[0m\u001b[0mlabels\u001b[0m\u001b[1;33m,\u001b[0m \u001b[0mlevel\u001b[0m\u001b[1;33m=\u001b[0m\u001b[0mlevel\u001b[0m\u001b[1;33m,\u001b[0m \u001b[0merrors\u001b[0m\u001b[1;33m=\u001b[0m\u001b[0merrors\u001b[0m\u001b[1;33m)\u001b[0m\u001b[1;33m\u001b[0m\u001b[0m\n\u001b[0;32m   2561\u001b[0m             \u001b[1;32melse\u001b[0m\u001b[1;33m:\u001b[0m\u001b[1;33m\u001b[0m\u001b[0m\n\u001b[1;32m-> 2562\u001b[1;33m                 \u001b[0mnew_axis\u001b[0m \u001b[1;33m=\u001b[0m \u001b[0maxis\u001b[0m\u001b[1;33m.\u001b[0m\u001b[0mdrop\u001b[0m\u001b[1;33m(\u001b[0m\u001b[0mlabels\u001b[0m\u001b[1;33m,\u001b[0m \u001b[0merrors\u001b[0m\u001b[1;33m=\u001b[0m\u001b[0merrors\u001b[0m\u001b[1;33m)\u001b[0m\u001b[1;33m\u001b[0m\u001b[0m\n\u001b[0m\u001b[0;32m   2563\u001b[0m             \u001b[0mdropped\u001b[0m \u001b[1;33m=\u001b[0m \u001b[0mself\u001b[0m\u001b[1;33m.\u001b[0m\u001b[0mreindex\u001b[0m\u001b[1;33m(\u001b[0m\u001b[1;33m**\u001b[0m\u001b[1;33m{\u001b[0m\u001b[0maxis_name\u001b[0m\u001b[1;33m:\u001b[0m \u001b[0mnew_axis\u001b[0m\u001b[1;33m}\u001b[0m\u001b[1;33m)\u001b[0m\u001b[1;33m\u001b[0m\u001b[0m\n\u001b[0;32m   2564\u001b[0m             \u001b[1;32mtry\u001b[0m\u001b[1;33m:\u001b[0m\u001b[1;33m\u001b[0m\u001b[0m\n",
      "\u001b[1;32m~\\Anaconda3\\lib\\site-packages\\pandas\\core\\indexes\\base.py\u001b[0m in \u001b[0;36mdrop\u001b[1;34m(self, labels, errors)\u001b[0m\n\u001b[0;32m   3742\u001b[0m             \u001b[1;32mif\u001b[0m \u001b[0merrors\u001b[0m \u001b[1;33m!=\u001b[0m \u001b[1;34m'ignore'\u001b[0m\u001b[1;33m:\u001b[0m\u001b[1;33m\u001b[0m\u001b[0m\n\u001b[0;32m   3743\u001b[0m                 raise ValueError('labels %s not contained in axis' %\n\u001b[1;32m-> 3744\u001b[1;33m                                  labels[mask])\n\u001b[0m\u001b[0;32m   3745\u001b[0m             \u001b[0mindexer\u001b[0m \u001b[1;33m=\u001b[0m \u001b[0mindexer\u001b[0m\u001b[1;33m[\u001b[0m\u001b[1;33m~\u001b[0m\u001b[0mmask\u001b[0m\u001b[1;33m]\u001b[0m\u001b[1;33m\u001b[0m\u001b[0m\n\u001b[0;32m   3746\u001b[0m         \u001b[1;32mreturn\u001b[0m \u001b[0mself\u001b[0m\u001b[1;33m.\u001b[0m\u001b[0mdelete\u001b[0m\u001b[1;33m(\u001b[0m\u001b[0mindexer\u001b[0m\u001b[1;33m)\u001b[0m\u001b[1;33m\u001b[0m\u001b[0m\n",
      "\u001b[1;31mValueError\u001b[0m: labels ['BHAclassLast' 'BHAclassLastType' 'BHAclassToday' 'Betfair Place S.P.'\n 'Betfair Placed' 'Betfair Win S.P.' 'LastTimeClassDrop'\n 'LastTimePositionRaceType' 'LastTimePosn' 'LastTimeWeightDrop'\n 'LstRanking' 'RAdjRanking' 'RawRanking' 'S.P.' 'SpdRanking' 'Systems'\n 'TrFormRanking' 'TrainerCalendarRuns' 'WeightDifferentialOneRace'\n 'WinFRanking'] not contained in axis"
     ]
    }
   ],
   "source": [
    "ds.drop(columns=['BHAclassLast', 'BHAclassLastType', 'BHAclassToday',\n",
    "       'Betfair Place S.P.', 'Betfair Placed', 'Betfair Win S.P.',\n",
    "       'LastTimeClassDrop', 'LastTimePositionRaceType', 'LastTimePosn',\n",
    "       'LastTimeWeightDrop', 'LstRanking', 'RAdjRanking', 'RawRanking', 'S.P.',\n",
    "       'SpdRanking', 'Systems', 'TrFormRanking', 'TrainerCalendarRuns',\n",
    "       'WeightDifferentialOneRace', 'WinFRanking'], inplace=True)"
   ]
  },
  {
   "cell_type": "code",
   "execution_count": 44,
   "metadata": {},
   "outputs": [],
   "source": [
    "for index,row in ds.iterrows():\n",
    "    label = row['Result']\n",
    "    if label != '1':\n",
    "        newLabel = '0' \n",
    "        ds.at[index, 'Result'] = newLabel"
   ]
  },
  {
   "cell_type": "code",
   "execution_count": 45,
   "metadata": {},
   "outputs": [
    {
     "data": {
      "image/png": "[encoded data removed]",
      "text/plain": [
       "<matplotlib.figure.Figure at 0x1852619e320>"
      ]
     },
     "metadata": {},
     "output_type": "display_data"
    }
   ],
   "source": [
    "Winners= plt.figure()\n",
    "ax = Winners.add_subplot(1,1,1)\n",
    "ax.hist(ds['Result'])\n",
    "plt.show()"
   ]
  },
  {
   "cell_type": "code",
   "execution_count": null,
   "metadata": {},
   "outputs": [],
   "source": [
    "\n",
    "# for col in X_test.columns.values:\n",
    "#     if X_test[col].dtypes=='object':\n",
    "#         print(\"%a\" %col)"
   ]
  },
  {
   "cell_type": "code",
   "execution_count": null,
   "metadata": {},
   "outputs": [],
   "source": [
    "# file = open('data.txt','w')\n",
    "# for col in X_test.columns.values:\n",
    "#     file.write(\"%a,\" %col)\n",
    "\n",
    "# file.close"
   ]
  },
  {
   "cell_type": "code",
   "execution_count": 46,
   "metadata": {},
   "outputs": [],
   "source": [
    "X = ds[[' Duration',' LengthsBehind',' LengthsBehindTotal',' UKHR_CourseID',' UKHR_EntryID',' UKHR_HorseID',' UKHR_JockeyID',' UKHR_TrainerID','Actual Going','Actual Runners','Age','Alarms','Allowances','Auction','BST_GMT','Beginner','BetFairSPForecastPlacePrice','BetFairSPForecastWinPrice','BetterClassWeightWin','BetterClassWeightWinDaysAgo','BetterClassWeightWinRacesAgo','BetterClassWeightWinType','BetterClassWeightWinTypeDaysAgo','BetterClassWeightWinTypeRacesAgo','BetterClassWin','BetterClassWinDaysAgo','BetterClassWinRacesAgo','BetterClassWinType','BetterClassWinTypeDaysAgo','BetterClassWinTypeRacesAgo','CSVversion','CardNumber','ChaseJumpingAbility','Claiming','Class','ClassDiffAverage','ClassDiffAverage1Year','ClassDiffDifference','ClassDiffDifference1Year','ClassDiffRuns','ClassDiffRuns1Year','ClassDiffTotal','ClassDiffTotal1Year','ClassDiffWinsAverage','ClassDiffWinsAverage1Year','ClassDiffWinsDifference','ClassDiffWinsDifference1Year','ClassDiffWinsRuns','ClassDiffWinsRuns1Year','ClassDiffWinsTotal','ClassDiffWinsTotal1Year','ClassPosition','ClassWeightDiffAverage','ClassWeightDiffAverage1Year','ClassWeightDiffDifference','ClassWeightDiffDifference1Year','ClassWeightDiffRuns','ClassWeightDiffRuns1Year','ClassWeightDiffTotal','ClassWeightDiffTotal1Year','ClassWeightDiffWinsAverage','ClassWeightDiffWinsAverage1Year','ClassWeightDiffWinsDifference','ClassWeightDiffWinsDifference1Year','ClassWeightDiffWinsRuns','ClassWeightDiffWinsRuns1Year','ClassWeightDiffWinsTotal','ClassWeightDiffWinsTotal1Year','ClsAdvantage','ClsRanking','ConnAdvantage','ConnRanking','ConnectionsRating','Country','CourseWins','Dam','Dam_AdjacentGoing_AE','Dam_AdjacentGoing_PL','Dam_AdjacentGoing_ROI','Dam_AdjacentGoing_Run','Dam_AdjacentGoing_SR','Dam_AdjacentGoing_Win','Dam_Age_AE','Dam_Age_PL','Dam_Age_ROI','Dam_Age_Run','Dam_Age_SR','Dam_Age_Win','Dam_All_AE','Dam_All_PL','Dam_All_ROI','Dam_All_Run','Dam_All_SR','Dam_All_Win','Dam_DistanceRange_AE','Dam_DistanceRange_PL','Dam_DistanceRange_ROI','Dam_DistanceRange_Run','Dam_DistanceRange_SR','Dam_DistanceRange_Win','Dam_Distance_AE','Dam_Distance_PL','Dam_Distance_ROI','Dam_Distance_Run','Dam_Distance_SR','Dam_Distance_Win','Dam_GoingDistance_AE','Dam_GoingDistance_PL','Dam_GoingDistance_ROI','Dam_GoingDistance_Run','Dam_GoingDistance_Win','Dam_Going_AE','Dam_Going_Distance_SR','Dam_Going_PL','Dam_Going_ROI','Dam_Going_Run','Dam_Going_SR','Dam_Going_Win','Dam_RaceClass_AE','Dam_RaceClass_PL','Dam_RaceClass_ROI','Dam_RaceClass_Run','Dam_RaceClass_SR','Dam_RaceClass_Win','Dam_RaceType_AE','Dam_RaceType_PL','Dam_RaceType_ROI','Dam_RaceType_Run','Dam_RaceType_SR','Dam_RaceType_Win','Date','DaysSinceLastRun','DaysSincePreviousTrainerWin','DifferentialRankingClass1Year','DifferentialRankingClass1YearWins','DifferentialRankingClass5Years','DifferentialRankingClass5YearsWins','DifferentialRankingClassWeight1Year','DifferentialRankingClassWeight1YearWins','DifferentialRankingClassWeight5Years','DifferentialRankingClassWeight5YearsWins','DifferentialRankingWeight1Year','DifferentialRankingWeight1YearWins','DifferentialRankingWeight5Years','DifferentialRankingWeight5YearsWins','Distance2RunsAgo','Distance3RunsAgo','Distance4RunsAgo','Distance5RunsAgo','DistanceLastTime','DistanceRegression','DistanceRuns','DistanceWins','ElapsedDays','FCPAdvantage','ForecastSP','FormLastRun','FormTrend','FrmAdvantage','FrmRanking','Furlongs','Gender','Going','Going2RunsAgo','Going3RunsAgo','Going4RunsAgo','Going5RunsAgo','GoingLastTime','GoingRegression','GoingRuns','GoingWins','HCPAdvantage','HCPRanking','Handicap','Horse','HorseForm','HunterChase','JCPL','JCROI','JCRuns','JCSR','JCWins','Jockey','JockeyAdvantage','JockeyRanking','JockeyRating','JumpAdvantage','KouldsScore_Age_Dam','KouldsScore_Age_Sire','KouldsScore_All_Dam','KouldsScore_All_Sire','KouldsScore_Distance20pc_Dam','KouldsScore_Distance20pc_Sire','KouldsScore_Distance_Dam','KouldsScore_Distance_Sire','KouldsScore_GoingBand_Dam','KouldsScore_GoingBand_Sire','KouldsScore_GoingDistance_Dam','KouldsScore_GoingDistance_Sire','KouldsScore_Going_Dam','KouldsScore_Going_Sire','KouldsScore_RaceClass_Dam','KouldsScore_RaceClass_Sire','KouldsScore_RaceType_Dam','KouldsScore_RaceType_Sire','KouldsScore_Total','LastClassDropRank','LastRaceRatingRank','LastTimeDistanceChange','LastTimeJockeyChange','LastTimeLengths','LastTimeTrainerChange','LengthsWonLost2RunsAgo','LengthsWonLost3RunsAgo','LengthsWonLost4RunsAgo','LengthsWonLost5RunsAgo','LengthsWonLostLastRun','LstAdvantage','Maiden','MaxAge','MeanWeight','Meeting','MinAge','Novice','NumberOfResults','Penalties','PlacePositions','Position2RunsAgo','Position3RunsAgo','Position4RunsAgo','Position5RunsAgo','PositionLastTime','Prize','RAdj Advantage','RDistanceRanking','RGoingRanking','Race1RunAgo','Race1RunAgoRaceClass','Race1RunAgoRaceClassType','Race1RunAgoRaceType','Race2RunsAgo','Race2RunsAgoRaceClass','Race2RunsAgoRaceClassType','Race2RunsAgoRaceType','Race3RunsAgo','Race3RunsAgoRaceClass','Race3RunsAgoRaceClassType','Race3RunsAgoRaceType','Race4RunsAgo','Race4RunsAgoRaceClass','Race4RunsAgoRaceClassType','Race4RunsAgoRaceType','Race5RunsAgo','Race5RunsAgoRaceClass','Race5RunsAgoRaceClassType','Race5RunsAgoRaceType','RaceClass','RaceType','RacesSincePreviousTrainerWin','Rating','RatingAdvantage','RatingsPosition','Raw Advantage','RawAdjustedForAgeAndWeight','RawRating','RecentWins','Runners','Selling','Sire','Sire_AdjacentGoing_AE','Sire_AdjacentGoing_PL','Sire_AdjacentGoing_ROI','Sire_AdjacentGoing_Run','Sire_AdjacentGoing_SR','Sire_AdjacentGoing_Win','Sire_Age_AE','Sire_Age_PL','Sire_Age_ROI','Sire_Age_Run','Sire_Age_SR','Sire_Age_Win','Sire_All_AE','Sire_All_PL','Sire_All_ROI','Sire_All_Run','Sire_All_SR','Sire_All_Win','Sire_DistanceRange_AE','Sire_DistanceRange_PL','Sire_DistanceRange_ROI','Sire_DistanceRange_Run','Sire_DistanceRange_SR','Sire_DistanceRange_Win','Sire_Distance_AE','Sire_Distance_PL','Sire_Distance_ROI','Sire_Distance_Run','Sire_Distance_SR','Sire_Distance_Win','Sire_GoingDistance_AE','Sire_GoingDistance_PL','Sire_GoingDistance_ROI','Sire_GoingDistance_Run','Sire_GoingDistance_SR','Sire_GoingDistance_Win','Sire_Going_AE','Sire_Going_PL','Sire_Going_ROI','Sire_Going_Run','Sire_Going_SR','Sire_Going_Win','Sire_RaceClass_AE','Sire_RaceClass_PL','Sire_RaceClass_ROI','Sire_RaceClass_Run','Sire_RaceClass_SR','Sire_RaceClass_Win','Sire_RaceType_AE','Sire_RaceType_PL','Sire_RaceType_ROI','Sire_RaceType_Run','Sire_RaceType_SR','Sire_RaceType_Win','SpdAdvantage','Speed','SpeedAdvantage','SpeedRating','SpeedRatingRank','StallNumber','StallPercentage','TCPL','TCROI','TCRuns','TCSR','TCWins','TJCPL','TJCROI','TJCRuns','TJCSR','TJCTypePL','TJCTypeROI','TJCTypeRuns','TJCTypeSR','TJCTypeWins','TJCWins','TJPL','TJROI','TJRuns','TJSR','TJWins','TRF02WeeksPL','TRF02WeeksROI','TRF02WeeksRuns','TRF02WeeksSR','TRF02WeeksWins','TRF04WeeksPL','TRF04WeeksROI','TRF04WeeksRuns','TRF04WeeksSR','TRF04WeeksWins','TRF20RunsDays','TRF20RunsPL','TRF20RunsROI','TRF20RunsRuns','TRF20RunsSR','TRF20RunsWins','Time','Time24Hour','Title','TotalWins','TrForm10RunsAgo','TrForm2RunsAgo','TrForm3RunsAgo','TrForm4RunsAgo','TrForm5RunsAgo','TrForm6RunsAgo','TrForm7RunsAgo','TrForm8RunsAgo','TrForm9RunsAgo','TrFormAdvantage','TrFormLastRun','Trainer','Trainer5YearPL','Trainer5YearROI','Trainer5YearReturn','Trainer5YearRuns','Trainer5YearSR','Trainer5YearWins','Trainer7DaysPL','Trainer7DaysROI','Trainer7DaysSR','Trainer7DaysWins','TrainerAdvantage','TrainerCalendarPL','TrainerCalendarROI','TrainerCalendarReturn','TrainerCalendarSR','TrainerCalendarWins','TrainerDaysRuns','TrainerForm','TrainerLast10RunsPL','TrainerLast10RunsROI','TrainerLast10RunsRuns','TrainerLast10RunsSR','TrainerLast10RunsWins','TrainerLast40RunsPL','TrainerLast40RunsROI','TrainerLast40RunsRuns','TrainerLast40RunsSR','TrainerLast40RunsWins','TrainerRanking','TrainerRating','UKHRCardCourseID','UKHRCardHorseID','UKHRCardJockeyID','UKHRCardRaceID','UKHRCardTrainerID','UKHR_DamID','UKHR_RaceID','UKHR_SireID','ValueOdds','ValueOdds_Probability','ValuePlaceOdds','Wearing','WeightDelta','WeightDiffAverage','WeightDiffAverage1Year','WeightDiffDifference','WeightDiffDifference1Year']]\n",
    "y = ds['Result']"
   ]
  },
  {
   "cell_type": "code",
   "execution_count": 47,
   "metadata": {},
   "outputs": [],
   "source": [
    "X_train, X_test, y_train, y_test = train_test_split(X, y, test_size=0.1,)"
   ]
  },
  {
   "cell_type": "code",
   "execution_count": 48,
   "metadata": {},
   "outputs": [],
   "source": [
    "del X\n",
    "del y"
   ]
  },
  {
   "cell_type": "code",
   "execution_count": 49,
   "metadata": {},
   "outputs": [],
   "source": [
    "le=LabelEncoder()\n",
    "for col in X_test.columns.values:\n",
    "    if X_test[col].dtypes=='object':\n",
    "        data=X_train[col].append(X_test[col])\n",
    "        le.fit(data.values.astype(str))\n",
    "        X_train[col]=le.transform(X_train[col].astype(str))\n",
    "        X_test[col]=le.transform(X_test[col].astype(str))"
   ]
  },
  {
   "cell_type": "code",
   "execution_count": 50,
   "metadata": {},
   "outputs": [],
   "source": [
    "del ds"
   ]
  },
  {
   "cell_type": "code",
   "execution_count": 51,
   "metadata": {},
   "outputs": [
    {
     "data": {
      "text/plain": [
       "10623"
      ]
     },
     "execution_count": 51,
     "metadata": {},
     "output_type": "execute_result"
    }
   ],
   "source": [
    "gc.collect()"
   ]
  },
  {
   "cell_type": "code",
   "execution_count": 52,
   "metadata": {},
   "outputs": [],
   "source": [
    "sm = SMOTE()\n",
    "X_smote, y_train_smote = sm.fit_sample(X_train,y_train)"
   ]
  },
  {
   "cell_type": "code",
   "execution_count": 53,
   "metadata": {},
   "outputs": [],
   "source": [
    "del X_train\n",
    "del y_train"
   ]
  },
  {
   "cell_type": "code",
   "execution_count": 54,
   "metadata": {},
   "outputs": [],
   "source": [
    "norm_X_train = normalize(X_smote)\n",
    "norm_X_test = normalize(X_test)"
   ]
  },
  {
   "cell_type": "code",
   "execution_count": 55,
   "metadata": {},
   "outputs": [],
   "source": [
    "del X_smote\n",
    "del X_test"
   ]
  },
  {
   "cell_type": "code",
   "execution_count": 56,
   "metadata": {},
   "outputs": [
    {
     "data": {
      "text/plain": [
       "MLPClassifier(activation='relu', alpha=0.0001, batch_size='auto', beta_1=0.9,\n",
       "       beta_2=0.999, early_stopping=False, epsilon=1e-08,\n",
       "       hidden_layer_sizes=(100,), learning_rate='constant',\n",
       "       learning_rate_init=0.001, max_iter=200, momentum=0.9,\n",
       "       nesterovs_momentum=True, power_t=0.5, random_state=None,\n",
       "       shuffle=True, solver='adam', tol=0.0001, validation_fraction=0.1,\n",
       "       verbose=False, warm_start=False)"
      ]
     },
     "execution_count": 56,
     "metadata": {},
     "output_type": "execute_result"
    }
   ],
   "source": [
    "mlp = MLPClassifier()\n",
    "mlp.fit(norm_X_train, y_train_smote)\n"
   ]
  },
  {
   "cell_type": "code",
   "execution_count": 57,
   "metadata": {},
   "outputs": [],
   "source": [
    "filename = \"TrainedModel3.sav\"\n",
    "pickle.dump(mlp, open(filename, 'wb'))"
   ]
  },
  {
   "cell_type": "code",
   "execution_count": 58,
   "metadata": {},
   "outputs": [],
   "source": [
    "loaded_mlp = pickle.load(open(filename, 'rb'))"
   ]
  },
  {
   "cell_type": "code",
   "execution_count": 59,
   "metadata": {},
   "outputs": [],
   "source": [
    "prediction = loaded_mlp.predict(norm_X_test)"
   ]
  },
  {
   "cell_type": "code",
   "execution_count": 60,
   "metadata": {},
   "outputs": [
    {
     "name": "stdout",
     "output_type": "stream",
     "text": [
      "             precision    recall  f1-score   support\n",
      "\n",
      "          0       0.95      0.79      0.86    102597\n",
      "          1       0.24      0.61      0.35     11190\n",
      "\n",
      "avg / total       0.88      0.77      0.81    113787\n",
      "\n",
      "0.7717489695659434\n"
     ]
    }
   ],
   "source": [
    "accuracy = accuracy_score(y_test, prediction)\n",
    "print(classification_report(y_test, prediction))\n",
    "print(accuracy)"
   ]
  },
  {
   "cell_type": "code",
   "execution_count": 64,
   "metadata": {
    "scrolled": true
   },
   "outputs": [
    {
     "data": {
      "image/png": "[encoded data removed]",
      "text/plain": [
       "<matplotlib.figure.Figure at 0x181bf3266d8>"
      ]
     },
     "metadata": {},
     "output_type": "display_data"
    }
   ],
   "source": [
    "ClassNames = ['0', '1']\n",
    "def plot_confusion_matrix(cm, classes, normalize=True):\n",
    "    if normalize:\n",
    "        cm = cm.astype('float') / cm.sum(axis=1)[:, np.newaxis]\n",
    "\n",
    "    plt.imshow(cm, interpolation='nearest', cmap=plt.cm.Blues, aspect='auto')\n",
    "    plt.title('Confusion matrix')\n",
    "    plt.colorbar()\n",
    "    tick_marks = np.arange(len(classes))\n",
    "    plt.xticks(tick_marks, classes, rotation=45)\n",
    "    plt.yticks(tick_marks, classes)\n",
    "\n",
    "    fmt = '.2f' if normalize else 'd'\n",
    "    thresh = cm.max() / 2.\n",
    "    for i, j in itertools.product(range(cm.shape[0]), range(cm.shape[1])):\n",
    "        plt.text(j, i, format(cm[i, j], fmt),\n",
    "                 horizontalalignment=\"center\",\n",
    "                 color=\"white\" if cm[i, j] > thresh else \"black\")\n",
    "\n",
    "    plt.ylabel('True label')\n",
    "    plt.xlabel('Predicted label')\n",
    "    plt.savefig('confusionMatrix.png')\n",
    "    plt.show()\n",
    "    \n",
    "\n",
    "cmPlot = confusion_matrix(y_test, prediction, labels= labels)\n",
    "plot_confusion_matrix(cmPlot, classes= ClassNames, normalize=True)\n"
   ]
  },
  {
   "cell_type": "code",
   "execution_count": null,
   "metadata": {},
   "outputs": [],
   "source": []
  },
  {
   "cell_type": "code",
   "execution_count": null,
   "metadata": {},
   "outputs": [],
   "source": []
  }
 ],
 "metadata": {
  "kernelspec": {
   "display_name": "Coconut (Python 3)",
   "language": "coconut",
   "name": "coconut3"
  },
  "language_info": {
   "codemirror_mode": {
    "name": "python",
    "version": 3.6
   },
   "file_extension": ".coco",
   "mimetype": "text/x-python3",
   "name": "coconut",
   "pygments_lexer": "coconut"
  }
 },
 "nbformat": 4,
 "nbformat_minor": 2
}
